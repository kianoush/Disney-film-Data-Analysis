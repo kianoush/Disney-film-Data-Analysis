{
 "cells": [
  {
   "cell_type": "markdown",
   "id": "51c11f7b",
   "metadata": {},
   "source": [
    "### Disney Dataset Creation (w/ Python BeautifulSoup)\n",
    "Scrape & clean a list of disney wikipedia pages to create a dataset to further analyze"
   ]
  },
  {
   "cell_type": "markdown",
   "id": "8141ae49",
   "metadata": {},
   "source": [
    "#### Task #1: Get Info Box (store in Python dictionary)"
   ]
  },
  {
   "cell_type": "code",
   "execution_count": 1,
   "id": "11ef037b",
   "metadata": {},
   "outputs": [],
   "source": [
    "from bs4 import BeautifulSoup as bs\n",
    "import requests\n",
    "import json\n",
    "import pickle\n"
   ]
  },
  {
   "cell_type": "markdown",
   "id": "16a609e0",
   "metadata": {},
   "source": [
    "### Load the webpage"
   ]
  },
  {
   "cell_type": "code",
   "execution_count": 2,
   "id": "d280703a",
   "metadata": {},
   "outputs": [],
   "source": [
    "r = requests.get(\"https://en.wikipedia.org/wiki/Toy_Story_3\")\n",
    "\n",
    "# Convert to a beautiful soup object\n",
    "soup = bs(r.content)\n",
    "\n",
    "# Print out the HTML\n",
    "contents = soup.prettify()\n",
    "#print(contents)"
   ]
  },
  {
   "cell_type": "code",
   "execution_count": 3,
   "id": "a4a56fab",
   "metadata": {
    "scrolled": true
   },
   "outputs": [],
   "source": [
    "info_box = soup.find(class_=\"infobox vevent\")\n",
    "info_rows = info_box.find_all(\"tr\")\n",
    "# for row in info_rows:\n",
    "#     print(row.prettify())\n"
   ]
  },
  {
   "cell_type": "code",
   "execution_count": 4,
   "id": "2aeea8a1",
   "metadata": {},
   "outputs": [
    {
     "data": {
      "text/plain": [
       "{'title': 'Toy Story 3',\n",
       " 'Directed by': 'Lee Unkrich',\n",
       " 'Screenplay by': 'Michael Arndt',\n",
       " 'Story by': ['John Lasseter', 'Andrew Stanton', 'Lee Unkrich'],\n",
       " 'Produced by': 'Darla K. Anderson',\n",
       " 'Starring': ['Tom Hanks',\n",
       "  'Tim Allen',\n",
       "  'Joan Cusack',\n",
       "  'Don Rickles',\n",
       "  'Wallace Shawn',\n",
       "  'John Ratzenberger',\n",
       "  'Estelle Harris',\n",
       "  'Ned Beatty',\n",
       "  'Michael Keaton',\n",
       "  'Jodi Benson',\n",
       "  'John Morris'],\n",
       " 'Cinematography': ['Jeremy Lasky', 'Kim White'],\n",
       " 'Edited by': 'Ken Schretzmann',\n",
       " 'Music by': 'Randy Newman',\n",
       " 'Production companies': ['Walt Disney Pictures', 'Pixar Animation Studios'],\n",
       " 'Distributed by': 'Walt Disney Studios Motion Pictures',\n",
       " 'Release date': ['June 12, 2010 ( 2010-06-12 ) ( Taormina Film Fest )',\n",
       "  'June 18, 2010 ( 2010-06-18 ) (United States)'],\n",
       " 'Running time': '103 minutes [1]',\n",
       " 'Country': 'United States',\n",
       " 'Language': 'English',\n",
       " 'Budget': '$200 million [1]',\n",
       " 'Box office': '$1.067 billion [1]'}"
      ]
     },
     "execution_count": 4,
     "metadata": {},
     "output_type": "execute_result"
    }
   ],
   "source": [
    "def get_content_value(row_data):\n",
    "    if row_data.find(\"li\"):  # if row_data has a list we need to return it to the text word\n",
    "        return [li.get_text(\" \", strip=True).replace(\"\\xa0\", \" \") for li in row_data.find_all(\"li\")]\n",
    "    else:\n",
    "        return row_data.get_text(\" \", strip=True).replace(\"\\xa0\", \" \")\n",
    "\n",
    "movie_info = {}\n",
    "for index, row in enumerate(info_rows):\n",
    "    if index == 0:\n",
    "        movie_info['title'] = row.find(\"th\").get_text(\" \", strip=True)\n",
    "    elif index == 1:\n",
    "        continue\n",
    "    else:\n",
    "        content_key = row.find(\"th\").get_text(\" \", strip=True)\n",
    "        content_value = get_content_value(row.find(\"td\"))\n",
    "        movie_info[content_key] = content_value\n",
    "    \n",
    "movie_info"
   ]
  },
  {
   "cell_type": "markdown",
   "id": "8c881705",
   "metadata": {},
   "source": [
    " #### Task #2: Get info box for all movies"
   ]
  },
  {
   "cell_type": "code",
   "execution_count": 5,
   "id": "ee87ff77",
   "metadata": {},
   "outputs": [],
   "source": [
    "r = requests.get('https://en.wikipedia.org/wiki/List_of_Walt_Disney_Pictures_films')\n",
    "\n",
    "# Convert to a beautiful soup object\n",
    "soup = bs(r.content)\n",
    "\n",
    "\n",
    "# Print out the HTML\n",
    "contents = soup.prettify()\n",
    "#print(contents)\n"
   ]
  },
  {
   "cell_type": "code",
   "execution_count": 6,
   "id": "36c6cfd3",
   "metadata": {},
   "outputs": [
    {
     "data": {
      "text/plain": [
       "<i><a href=\"/wiki/Academy_Award_Review_of_Walt_Disney_Cartoons\" title=\"Academy Award Review of Walt Disney Cartoons\">Academy Award Review of Walt Disney Cartoons</a></i>"
      ]
     },
     "execution_count": 6,
     "metadata": {},
     "output_type": "execute_result"
    }
   ],
   "source": [
    "movies = soup.select(\".wikitable.sortable i\")\n",
    "movies[0]"
   ]
  },
  {
   "cell_type": "code",
   "execution_count": 7,
   "id": "640ffbec",
   "metadata": {},
   "outputs": [],
   "source": [
    "def get_content_value(row_data):\n",
    "    if row_data.find(\"li\"):\n",
    "        return [li.get_text(\" \", strip=True).replace(\"\\xa0\", \" \") for li in row_data.find_all(\"li\")]\n",
    "    elif row_data.find(\"br\"):\n",
    "        return [text for text in row_data.stripped_strings]\n",
    "    else:\n",
    "        return row_data.get_text(\" \", strip=True).replace(\"\\xa0\", \" \")\n",
    "\n",
    "def clean_tags(soup):\n",
    "    for tag in soup.find_all([\"sup\", \"span\"]):\n",
    "        tag.decompose()\n",
    "        \n",
    "def get_info_box(url):\n",
    "\n",
    "    r = requests.get(url)\n",
    "    soup = bs(r.content)\n",
    "    info_box = soup.find(class_=\"infobox vevent\")\n",
    "    info_rows = info_box.find_all(\"tr\")\n",
    "    \n",
    "    clean_tags(soup)\n",
    "\n",
    "    movie_info = {}\n",
    "    for index, row in enumerate(info_rows):\n",
    "        if index == 0:\n",
    "            movie_info['title'] = row.find(\"th\").get_text(\" \", strip=True)\n",
    "        else:\n",
    "            header = row.find('th')\n",
    "            if header:\n",
    "                content_key = row.find(\"th\").get_text(\" \", strip=True)\n",
    "                content_value = get_content_value(row.find(\"td\"))\n",
    "                movie_info[content_key] = content_value\n",
    "            \n",
    "    return movie_info    "
   ]
  },
  {
   "cell_type": "code",
   "execution_count": 8,
   "id": "03e43755",
   "metadata": {
    "scrolled": true
   },
   "outputs": [
    {
     "data": {
      "text/plain": [
       "{'title': 'One Little Indian',\n",
       " 'Directed by': 'Bernard McEveety',\n",
       " 'Written by': 'Harry Spalding',\n",
       " 'Produced by': 'Winston Hibler',\n",
       " 'Starring': ['James Garner',\n",
       "  'Vera Miles',\n",
       "  'Pat Hingle',\n",
       "  'Morgan Woodward',\n",
       "  'Jodie Foster'],\n",
       " 'Cinematography': 'Charles F. Wheeler',\n",
       " 'Edited by': 'Robert Stafford',\n",
       " 'Music by': 'Jerry Goldsmith',\n",
       " 'Production company': 'Walt Disney Productions',\n",
       " 'Distributed by': 'Buena Vista Distribution',\n",
       " 'Release date': ['June 20, 1973'],\n",
       " 'Running time': '90 Minutes',\n",
       " 'Country': 'United States',\n",
       " 'Language': 'English',\n",
       " 'Box office': '$2 million'}"
      ]
     },
     "execution_count": 8,
     "metadata": {},
     "output_type": "execute_result"
    }
   ],
   "source": [
    "get_info_box(\"https://en.wikipedia.org/wiki/One_Little_Indian_(film)\")"
   ]
  },
  {
   "cell_type": "code",
   "execution_count": 9,
   "id": "ee13c29a",
   "metadata": {
    "scrolled": true
   },
   "outputs": [
    {
     "name": "stdout",
     "output_type": "stream",
     "text": [
      "0\n",
      "10\n",
      "20\n",
      "30\n",
      "40\n",
      "Zorro the Avenger\n",
      "'NoneType' object has no attribute 'find'\n",
      "The Sign of Zorro\n",
      "'NoneType' object has no attribute 'find'\n",
      "50\n",
      "60\n",
      "70\n",
      "80\n",
      "90\n",
      "100\n",
      "110\n",
      "120\n",
      "True-Life Adventures\n",
      "'NoneType' object has no attribute 'find_all'\n",
      "130\n",
      "140\n",
      "The London Connection\n",
      "'NoneType' object has no attribute 'find'\n",
      "150\n",
      "160\n",
      "170\n",
      "180\n",
      "190\n",
      "200\n",
      "210\n",
      "220\n",
      "230\n",
      "240\n",
      "250\n",
      "260\n",
      "270\n",
      "280\n",
      "290\n",
      "300\n",
      "310\n",
      "320\n",
      "330\n",
      "340\n",
      "350\n",
      "360\n",
      "370\n",
      "380\n",
      "390\n",
      "400\n",
      "410\n",
      "420\n",
      "430\n",
      "440\n",
      "450\n",
      "Better Nate Than Never\n",
      "'NoneType' object has no attribute 'find_all'\n"
     ]
    }
   ],
   "source": [
    "r = requests.get(\"https://en.wikipedia.org/wiki/List_of_Walt_Disney_Pictures_films\")\n",
    "soup = bs(r.content)\n",
    "movies = soup.select(\".wikitable.sortable i a\")\n",
    "\n",
    "base_path = \"https://en.wikipedia.org/\"\n",
    "\n",
    "movie_info_list = []\n",
    "for index, movie in enumerate(movies):\n",
    "    if index % 10 == 0:\n",
    "        print(index)\n",
    "    try:\n",
    "        relative_path = movie['href']\n",
    "        full_path = base_path + relative_path\n",
    "        title = movie['title']\n",
    "        \n",
    "        movie_info_list.append(get_info_box(full_path))\n",
    "        \n",
    "    except Exception as e:\n",
    "        print(movie.get_text())\n",
    "        print(e)"
   ]
  },
  {
   "cell_type": "code",
   "execution_count": 10,
   "id": "1c5ac15d",
   "metadata": {},
   "outputs": [
    {
     "data": {
      "text/plain": [
       "{'title': 'Academy Award Review of',\n",
       " 'Production company': 'Walt Disney Productions',\n",
       " 'Release date': ['May 19, 1937'],\n",
       " 'Running time': '41 minutes (74 minutes 1966 release)',\n",
       " 'Country': 'United States',\n",
       " 'Language': 'English',\n",
       " 'Box office': '$45.472'}"
      ]
     },
     "execution_count": 10,
     "metadata": {},
     "output_type": "execute_result"
    }
   ],
   "source": [
    "movie_info_list[0]"
   ]
  },
  {
   "cell_type": "markdown",
   "id": "1703bb08",
   "metadata": {},
   "source": [
    "#### Save/Reload Movie Data"
   ]
  },
  {
   "cell_type": "code",
   "execution_count": 11,
   "id": "8e4d8837",
   "metadata": {},
   "outputs": [],
   "source": [
    "def save_data(title, data):\n",
    "    with open(title, 'w', encoding='utf-8') as f:\n",
    "        json.dump(data, f, ensure_ascii=False, indent=2)"
   ]
  },
  {
   "cell_type": "code",
   "execution_count": 12,
   "id": "88fac6c8",
   "metadata": {},
   "outputs": [],
   "source": [
    "def load_data(title):\n",
    "    with open(title, encoding=\"utf-8\") as f:\n",
    "        return json.load(f)"
   ]
  },
  {
   "cell_type": "code",
   "execution_count": 13,
   "id": "fd4459c0",
   "metadata": {},
   "outputs": [],
   "source": [
    "save_data(\"disney_data_cleaned.json\", movie_info_list)"
   ]
  },
  {
   "cell_type": "markdown",
   "id": "c0d18677",
   "metadata": {},
   "source": [
    "### Task #3: Clean our data!"
   ]
  },
  {
   "cell_type": "code",
   "execution_count": 14,
   "id": "ca631737",
   "metadata": {},
   "outputs": [
    {
     "data": {
      "text/plain": [
       "{'title': 'Mary Poppins Returns',\n",
       " 'Directed by': 'Rob Marshall',\n",
       " 'Screenplay by': 'David Magee',\n",
       " 'Story by': ['David Magee', 'Rob Marshall', 'John DeLuca'],\n",
       " 'Based on': ['Mary Poppins', 'by', 'P. L. Travers'],\n",
       " 'Produced by': ['Rob Marshall', 'John DeLuca', 'Marc Platt'],\n",
       " 'Starring': ['Emily Blunt',\n",
       "  'Lin-Manuel Miranda',\n",
       "  'Ben Whishaw',\n",
       "  'Emily Mortimer',\n",
       "  'Julie Walters',\n",
       "  'Colin Firth',\n",
       "  'Meryl Streep'],\n",
       " 'Cinematography': 'Dion Beebe',\n",
       " 'Edited by': 'Wyatt Smith',\n",
       " 'Music by': 'Marc Shaiman',\n",
       " 'Production companies': ['Walt Disney Pictures',\n",
       "  'Lucamar Productions',\n",
       "  'Marc Platt Productions'],\n",
       " 'Distributed by': ['Walt Disney Studios', 'Motion Pictures'],\n",
       " 'Release date': ['November 29, 2018 ( Dolby Theatre )',\n",
       "  'December 19, 2018 (United States)'],\n",
       " 'Running time': '131 minutes',\n",
       " 'Country': 'United States',\n",
       " 'Language': 'English',\n",
       " 'Budget': '$130 million',\n",
       " 'Box office': '$349.5 million'}"
      ]
     },
     "execution_count": 14,
     "metadata": {},
     "output_type": "execute_result"
    }
   ],
   "source": [
    "movie_info_list[-40]"
   ]
  },
  {
   "cell_type": "code",
   "execution_count": 15,
   "id": "8e7ff3ff",
   "metadata": {
    "scrolled": true
   },
   "outputs": [
    {
     "name": "stdout",
     "output_type": "stream",
     "text": [
      "['41 minutes (74 minutes 1966 release)', '83 minutes', '88 minutes', '126 minutes', '74 minutes', '64 minutes', '70 minutes', '42 minutes', '70 min', '71 minutes', '75 minutes', '94 minutes', '73 minutes', '75 minutes', '82 minutes', '68 minutes', '74 minutes', '96 minutes', '75 minutes', '84 minutes', '77 minutes', '92 minutes', '69 minutes', '81 minutes', ['60 minutes (VHS version)', '71 minutes (original)'], '127 minutes', '92 minutes', '76 minutes', '75 minutes', '73 minutes', '85 minutes', '81 minutes', '70 minutes', '90 min.', '80 minutes', '75 minutes', '83 minutes', '83 minutes', '72 minutes', '97 minutes', '75 minutes', '104 minutes', '93 minutes', '105 minutes', '95 minutes', '97 minutes', '134 minutes', '69 minutes', '92 minutes', '131 minutes', '79 minutes', '97 minutes', '128 minutes', '74 minutes', '91 minutes', '105 minutes', '98 minutes', '130 minutes', '89 min.', '93 minutes', '67 minutes', '98 minutes', '100 minutes', '118 minutes', '103 Minutes', '110 minutes', '80 min.', '79 minutes', '91 minutes', '91 minutes', '97 minutes', '118 minutes', '139 minutes', '92 minutes', '131 mins.', '87 minutes', '116 minutes', '93 minutes', '110 min.', '110 min.', '131 minutes', '101 minutes', '108 minutes', '84 minutes', '78 minutes', '75 minutes', ['164 minutes', '(', 'Los Angeles', 'premiere)', '144 minutes', '(', 'New York City', 'premiere)', '118 minutes', '(General release)', '172 minutes', '(', \"Director's cut\", ')'], '106 minutes', '110 minutes', '99 minutes', '113 mins.', '108 minutes', '112 minutes', '93 minutes', '91 minutes', '93 minutes', '100 minutes', '100 minutes', '79 minutes', '96 minutes', '113 minutes', '89 minutes', ['118 minutes (1971 original version)', '139 minutes (1996 reconstruction version)'], '92 minutes', '88 minutes', '92 minutes', '87 minutes', '93 minutes', '93 minutes', '93 minutes', '90 Minutes', '83 minutes', '96 minutes', '88 minutes', '89 minutes', '91 minutes', '93 minutes', '92 minutes', '97 min.', '100 minutes', '100 minutes', '89 minutes', '91 minutes', '112 minutes', '115 minutes', '95 minutes', '91 min.', '95 minutes', '104 minutes', '74 minutes', '48 minutes', '77 minutes', '104 minutes', '128 minutes', '101 minutes', '94 minutes', '104 minutes', '90 minutes', '100 minutes', '88 minutes', '93 minutes', '98 minutes', '112 minutes', '84 minutes', '98 minutes', '97 minutes', '114 minutes', '96 minutes', '100 minutes', '109 minutes', '83 minutes', '90 minutes', '107 minutes', '96 minutes', '103 minutes', '91 min', '95 minutes', '105 minutes', '113 minutes', '80 minutes', '101 minutes', '89 minutes', '74 minutes', '90 minutes', '89 minutes', '110 minutes', '74 minutes', '93 minutes', '84 minutes', '83 minutes', '74 minutes', '77 minutes', '107 minutes', '93 minutes', '88 minutes', '108 minutes', '84 minutes', '121 minutes', '89 minutes', '104 minutes', '90 minutes', '86 minutes', '84 minutes', '108 minutes', '107 minutes', '96 minutes', '98 minutes', '105 minutes', '108 minutes', '94 minutes', '106 minutes', '102 minutes', '88 minutes', '102 minutes', '102 minutes', '97 minutes', '111 minutes', '100 minutes', '96 minutes', '98 minutes', '78 minutes', '81 minutes', '108 minutes', '89 minutes', '99 minutes', '89 minutes', '81 minutes', '92 minutes', '100 minutes', '89 minutes', '79 minutes', '91 minutes', '101 minutes', '104 minutes', '103 minutes', '86 minutes', '105 minutes', '93 minutes', '92 minutes', '98 minutes', '95 minutes', '93 minutes', '87 minutes', '93 minutes', '87 minutes', '128 minutes', '86 minutes', '95 minutes', '114 minutes', '93 minutes', '83 minutes', '83 minutes', '88 minutes', '78 minutes', '112 minutes', '92 minutes', '74 minutes', '78 minutes', '72 minutes', '82 minutes', '104 minutes', '113 minutes', '100 minutes', '78 minutes', '83 minutes', '96 minutes', '115 minutes', '86 minutes', '92 minutes', '99 minutes', '73 minutes', '128 minutes', '85 minutes', '88 minutes', '125 minutes', '96 minutes', '104 minutes', '95 minutes', '72 minutes', '75 minutes', '61 minutes', '117 minutes', '94 minutes', '100 minutes', '143 minutes', '97 minutes', '85 minutes', '86 minutes', '50 minutes', '74 minutes', '136 minutes', '89 minutes', '76 minutes', '40 minutes', '120 minutes', '84 minutes', '113 minutes', '115 minutes', '131 minutes', '100 minutes', '68 minutes', '95 minutes', '97 minutes', '101 minutes', '119 minutes', '100 minutes', '76 minutes', '120 minutes', '81 minutes', '143 minutes', '118 minutes', '40 minutes', '120 minutes', '99 minutes', '82 minutes', '117 minutes', '150 minutes', '104 minutes', '76 minutes', '92 minutes', '95 minutes', '94 minutes', '167 minutes', '111 minutes', '82 minutes', '87 minutes', '110 minutes', '107 minutes', '124 minutes', '74 minutes', '83 minutes', '150 minutes', '97 minutes', '91 minutes', '100 minutes', '112 minutes', '96 minutes', '99 minutes', '85 minutes', ['76 minutes', '85 minutes'], '98 minutes', '97 minutes', ['99 minutes (UK)', '90 minutes (U.S.)'], '96 minutes', 'N/A', '90 minutes', '101 minutes', '107 minutes', '101 minutes', '96 minutes', '88 minutes', '97 minutes', '108 minutes', ['104 minutes (Original cut)', '84 minutes (Disney cut)'], '116 minutes', '103 minutes', '109 minutes', '115 minutes', '74 minutes', '123 minutes', '108 minutes', '100 minutes', '101 minutes', '125 minutes', 'N/A', '90 minutes', '88 minutes', '109 minutes', '89 minutes', '104 minutes', '137 minutes', '106 minutes', '63 minutes', '103 minutes', '95 minutes', '132 minutes', '77 minutes', '96 minutes', '93 minutes', '104 minutes', '87 minutes', '101 minutes', '130 minutes', '77 minutes', '104 minutes', '149 minutes', '92 minutes', '102 minutes', '125 minutes', '107 minutes', '77 minutes', '124 minutes', '97 minutes', '84 minutes', '127 minutes', '81 minutes', '102 minutes', '124 minutes', '129 minutes', '106 minutes', '82 minutes', '130 minutes', '95 minutes', '154 minutes', '97 minutes', '117 minutes', '108 minutes', '106 minutes', '98 minutes', '114 minutes', '97 minutes', '118 minutes', '103 minutes', '124 minutes', '107 minutes', '161 minutes', '80 minutes', '129 minutes', '76 minutes', '129 minutes', '102 minutes', 'N/A', '162 minutes', '105 minutes', '109 minutes', '118 minutes', '104 minutes', '99 minutes', '112 minutes', '131 minutes', '112 minutes', '76 minutes', '128 minutes', '100 minutes', '118 minutes', '119 minutes', '104 minutes', '100 minutes', '103 minutes', '114 minutes', '99 minutes', '102 minutes', '107 minutes', '78 minutes', '89 minutes', '95 minutes', '160 minutes', '85 minutes', '100 minutes', '95 minutes', '115 minutes', '113 minutes', '119 minutes', '100 minutes', '95 minutes', '107 minutes', '134 minutes', '95 minutes', '127 minutes', 'N/A', 'N/A', 'N/A', 'N/A', '96 minutes', 'N/A', 'N/A', 'N/A', 'N/A', 'N/A']\n"
     ]
    }
   ],
   "source": [
    "print([movie.get('Running time', 'N/A') for movie in movie_info_list])"
   ]
  },
  {
   "cell_type": "code",
   "execution_count": 16,
   "id": "99f6f3df",
   "metadata": {},
   "outputs": [],
   "source": [
    "# \"85 minutes\"\n",
    "def minutes_to_integer(running_time):\n",
    "    if running_time == \"N/A\":\n",
    "        return None\n",
    "    \n",
    "    if isinstance(running_time, list):\n",
    "        return int(running_time[0].split(\" \")[0])\n",
    "    else: # is a string\n",
    "        return int(running_time.split(\" \")[0])\n",
    "\n",
    "for movie in movie_info_list:\n",
    "    movie['Running time (int)'] = minutes_to_integer(movie.get('Running time', \"N/A\"))\n",
    "\n"
   ]
  },
  {
   "cell_type": "code",
   "execution_count": 17,
   "id": "db697ff1",
   "metadata": {},
   "outputs": [
    {
     "name": "stdout",
     "output_type": "stream",
     "text": [
      "[41, 83, 88, 126, 74, 64, 70, 42, 70, 71, 75, 94, 73, 75, 82, 68, 74, 96, 75, 84, 77, 92, 69, 81, 60, 127, 92, 76, 75, 73, 85, 81, 70, 90, 80, 75, 83, 83, 72, 97, 75, 104, 93, 105, 95, 97, 134, 69, 92, 131, 79, 97, 128, 74, 91, 105, 98, 130, 89, 93, 67, 98, 100, 118, 103, 110, 80, 79, 91, 91, 97, 118, 139, 92, 131, 87, 116, 93, 110, 110, 131, 101, 108, 84, 78, 75, 164, 106, 110, 99, 113, 108, 112, 93, 91, 93, 100, 100, 79, 96, 113, 89, 118, 92, 88, 92, 87, 93, 93, 93, 90, 83, 96, 88, 89, 91, 93, 92, 97, 100, 100, 89, 91, 112, 115, 95, 91, 95, 104, 74, 48, 77, 104, 128, 101, 94, 104, 90, 100, 88, 93, 98, 112, 84, 98, 97, 114, 96, 100, 109, 83, 90, 107, 96, 103, 91, 95, 105, 113, 80, 101, 89, 74, 90, 89, 110, 74, 93, 84, 83, 74, 77, 107, 93, 88, 108, 84, 121, 89, 104, 90, 86, 84, 108, 107, 96, 98, 105, 108, 94, 106, 102, 88, 102, 102, 97, 111, 100, 96, 98, 78, 81, 108, 89, 99, 89, 81, 92, 100, 89, 79, 91, 101, 104, 103, 86, 105, 93, 92, 98, 95, 93, 87, 93, 87, 128, 86, 95, 114, 93, 83, 83, 88, 78, 112, 92, 74, 78, 72, 82, 104, 113, 100, 78, 83, 96, 115, 86, 92, 99, 73, 128, 85, 88, 125, 96, 104, 95, 72, 75, 61, 117, 94, 100, 143, 97, 85, 86, 50, 74, 136, 89, 76, 40, 120, 84, 113, 115, 131, 100, 68, 95, 97, 101, 119, 100, 76, 120, 81, 143, 118, 40, 120, 99, 82, 117, 150, 104, 76, 92, 95, 94, 167, 111, 82, 87, 110, 107, 124, 74, 83, 150, 97, 91, 100, 112, 96, 99, 85, 76, 98, 97, 99, 96, None, 90, 101, 107, 101, 96, 88, 97, 108, 104, 116, 103, 109, 115, 74, 123, 108, 100, 101, 125, None, 90, 88, 109, 89, 104, 137, 106, 63, 103, 95, 132, 77, 96, 93, 104, 87, 101, 130, 77, 104, 149, 92, 102, 125, 107, 77, 124, 97, 84, 127, 81, 102, 124, 129, 106, 82, 130, 95, 154, 97, 117, 108, 106, 98, 114, 97, 118, 103, 124, 107, 161, 80, 129, 76, 129, 102, None, 162, 105, 109, 118, 104, 99, 112, 131, 112, 76, 128, 100, 118, 119, 104, 100, 103, 114, 99, 102, 107, 78, 89, 95, 160, 85, 100, 95, 115, 113, 119, 100, 95, 107, 134, 95, 127, None, None, None, None, 96, None, None, None, None, None]\n"
     ]
    }
   ],
   "source": [
    "print([movie.get('Running time (int)', 'N/A') for movie in movie_info_list])"
   ]
  },
  {
   "cell_type": "code",
   "execution_count": 18,
   "id": "9c02a2e6",
   "metadata": {
    "scrolled": true
   },
   "outputs": [
    {
     "name": "stdout",
     "output_type": "stream",
     "text": [
      "['N/A', '$1.49 million', '$2.6 million', '$2.28 million', '$600,000', '$950,000', '$858,000', 'N/A', '$788,000', 'N/A', '$1.35 million', '$2.125 million', 'N/A', '$1.5 million', '$1.5 million', 'N/A', '$2.2 million', '$1,800,000', '$3 million', 'N/A', '$4 million', '$2 million', '$300,000', '$1.8 million', 'N/A', '$5 million', 'N/A', '$4 million', 'N/A', 'N/A', 'N/A', 'N/A', 'N/A', 'N/A', '$700,000', 'N/A', 'N/A', 'N/A', 'N/A', 'N/A', '$6 million', 'under $1 million or $1,250,000', 'N/A', '$2 million', 'N/A', 'N/A', '$2.5 million', 'N/A', 'N/A', '$4 million', '$3.6 million', 'N/A', 'N/A', 'N/A', 'N/A', '$3 million', 'N/A', '$3 million', 'N/A', 'N/A', 'N/A', 'N/A', 'N/A', 'N/A', 'N/A', 'N/A', 'N/A', '$3 million', 'N/A', 'N/A', 'N/A', 'N/A', '$4.4–6 million', 'N/A', 'N/A', 'N/A', 'N/A', 'N/A', 'N/A', 'N/A', 'N/A', 'N/A', 'N/A', 'N/A', '$4 million', 'N/A', '$5 million', 'N/A', 'N/A', 'N/A', 'N/A', '$5 million', 'N/A', 'N/A', 'N/A', 'N/A', 'N/A', 'N/A', '$4 million', 'N/A', 'N/A', 'N/A', '$6.3 million', 'N/A', 'N/A', 'N/A', 'N/A', 'N/A', 'N/A', 'N/A', 'N/A', '$5 million', 'N/A', 'N/A', 'N/A', 'N/A', '$8 million', 'N/A', 'N/A', 'N/A', 'N/A', 'N/A', 'AU$1 million', 'N/A', 'N/A', 'N/A', 'N/A', '$5 million', 'N/A', 'N/A', 'N/A', '$7.5 million', 'N/A', '$10 million', 'N/A', 'N/A', '$3.5 to 4 million', 'N/A', 'N/A', 'N/A', '$5.25 million', '$20 million', 'N/A', '$9 million', 'N/A', '$6-8 million', '$20 million', 'N/A', 'N/A', '$18 million', '$12 million', '$14 million', 'N/A', '', '$5 million', 'unknown', '$20 million', '$11 million', '$28 million', '$44 million', 'N/A', 'N/A', '$14 million', '$9 million', 'N/A', 'A$8.7 million', '$31 million', '$18 million', '$5 million', '$40 million', '$20 million', 'N/A', '$14 million', '60 million Norwegian Kroner (around $8.7 million in 1989)', 'N/A', '$35-40 million', '$25 million', '$15 million', '$40 million', '$14 million', '$28 million', '$12 million', 'N/A', 'N/A', '$6.5 million', '$28 million', '$17 million', '$30 million', 'N/A', '$13 million', 'N/A', 'N/A', '$45 million', '$31 million', 'N/A', '$22 million', '$30 million', 'N/A', '$22 million', ['$32 million', '(estimated)'], '$18 million', '$55 million', '$24 million', '$15 million', '$12 million', 'N/A', '$30 million', 'N/A', '$31 million', 'N/A', '$38 million', '$70 million', '$15 million', 'N/A', '$67 million', 'N/A', '$32 million', '$85 million', '$55 million', '$3 million', '$16 million', '$80 million', '$30 million', '$24 million', '$90 million', '$15 million', '$30 million', '$120 million', '$90 million', '$65 million', '$5 million', 'N/A', '$130 million', '$75–90 million', '$10 million', '$90 million', '$80–$85 million', '$15 million –$30 million', '$4,000,000 (estimated)', '$127.5 million', '$65 million', '$30 million', '$85 million', '$100 million', '$23 million', '$90–120 million', '$26 million', '$25 million', '$115 million', '$33 million', '$20 million', '$22 million', '$80 million', '$35 million', '(US$15–19.2 million)', '$15 million', '$65 million', '$140 million', '$20 million', '$46 million', '$13 million', '$20 million', '$17 million', '$94 million', '$140 million', '$26 million', '$46 million', '$90 million', 'N/A', '$10 million', '$28 million', '$15 million', '$110 million', 'N/A', '$110 million', 'N/A', '$45 million', '$92 million', '$100 million', 'N/A', '$20 million', '$56 million', '$25 million', '$50 million', ['¥', '2.4 billion', 'US$24 million'], '$35 million', '$35 million', '$25 million', '$150 million', '$180 million', '$30 million', '$1 million', '$40 million', '$50 million', '$80 million', '$120 million', '$225 million', '$30 million', '$24 million', '$12 million', '$20–25 million', '$150 million', '$300 million', '$150 million', '$25 million', 'N/A', '$22 million', '$85 million', '$130 million', '$7 million', '$25 million', '$225 million', '$180 million', '$20 million', 'N/A', '$11 million', '$150 million', '$80 million', 'N/A', 'N/A', '$50 million', '$30 million', '$47 million', '$175 million', 'N/A', '$150 million', ['¥', '3.4 billion', '(', 'US$', '34 million)'], 'N/A', '$8 million ( ₽ 350 million)', '$175-200 million', '$35 million', '$105 million', '$150 –$200 million', '$80 million', '$150–200 million', '$200 million', '$150 million', '$22 million', 'N/A', '$35 million', 'N/A', '$260 million', 'N/A', '$170 million', '(US$3.8 million)', 'N/A', '$150 million', 'N/A', '$5 million', '$8 million', ['$410.6 million (gross)', '$378.5 million (net)'], '$200 million', '$30 million', '$45 million', '$23 million', ['$306.6 million (gross)', '$263.7 million (net)'], '$5 million', 'N/A', '$185 million', '$25 million', '$39 million', '$165 million', '$200–215 million', 'N/A', '$200 million', '$225–250 million', '$50 million', '$150 million', '$35 million', '$51 million', '$5 million', '$25 million', '$180–263 million', '$50 million', '(US$3.2 million)', '$28 million', '$165 million', '$50 million', '$17 million', '$84.21-95 million', '$5–10 million', '$180–190 million', '$175 million', '', '$175–200 million', '$70–80 million', '$150 million', '$175–177 million', 'N/A', '$170 million', '$175–200 million', '$140 million', '$65 million', '$15 million', '$150–175 million', '70 crore', '$8 million', '$160–255 million', '$5–10 million', '$230–320 million', '$175 million', 'N/A', ['131\\xa0crore'], '$175–225 million', '$100–130 million', '$200 million', '$65-70 million', '$120–133 million', '$175 million', '$130 million', '$170 million', 'N/A', '$183 million', '$200 million', '$250–260 million', '$185 million', '$60 million', 'N/A', '$150 million', '$40 million', '$42 million', '$175–200 million', 'N/A', 'N/A', 'N/A', '$125 million', '$12.5 million (stage production)', 'N/A', '$24 million', 'N/A', '$200 million', 'N/A', 'N/A', '$150 million+', 'N/A', '$100 million+', '$100–200 million', 'N/A', '$200 million', 'N/A', 'N/A', 'N/A', 'N/A', '$28 million', 'N/A', 'N/A', 'N/A', 'N/A', 'N/A']\n"
     ]
    }
   ],
   "source": [
    "print([movie.get('Budget', 'N/A') for movie in movie_info_list])"
   ]
  },
  {
   "cell_type": "code",
   "execution_count": 19,
   "id": "5e780ce0",
   "metadata": {},
   "outputs": [],
   "source": [
    "import re\n",
    "\n",
    "amounts = r\"thousand|million|billion\"\n",
    "number = r\"\\d+(,\\d{3})*\\.*\\d*\"\n",
    "\n",
    "word_re = rf\"\\${number}(-|\\sto\\s|–)?({number})?\\s({amounts})\"\n",
    "value_re = rf\"\\${number}\"\n",
    "\n",
    "def word_to_value(word):\n",
    "    value_dict = {\"thousand\": 1000, \"million\": 1000000, \"billion\": 1000000000}\n",
    "    return value_dict[word]\n",
    "\n",
    "def parse_word_syntax(string):\n",
    "    value_string = re.search(number, string).group()\n",
    "    value = float(value_string.replace(\",\", \"\"))\n",
    "    word = re.search(amounts, string, flags=re.I).group().lower()\n",
    "    word_value = word_to_value(word)\n",
    "    return value*word_value\n",
    "\n",
    "def parse_value_syntax(string):\n",
    "    value_string = re.search(number, string).group()\n",
    "    value = float(value_string.replace(\",\", \"\"))\n",
    "    return value\n",
    "\n",
    "'''\n",
    "money_conversion(\"$12.2 million\") --> 12200000 ## Word syntax\n",
    "money_conversion(\"$790,000\") --> 790000        ## Value syntax\n",
    "'''\n",
    "def money_conversion(money):\n",
    "    if money == \"N/A\":\n",
    "        return None\n",
    "\n",
    "    if isinstance(money, list):\n",
    "        money = money[0]\n",
    "        \n",
    "    word_syntax = re.search(word_re, money, flags=re.I)\n",
    "    value_syntax = re.search(value_re, money)\n",
    "\n",
    "    if word_syntax:\n",
    "        return parse_word_syntax(word_syntax.group())\n",
    "\n",
    "    elif value_syntax:\n",
    "        return parse_value_syntax(value_syntax.group())\n",
    "\n",
    "    else:\n",
    "        return None"
   ]
  },
  {
   "cell_type": "code",
   "execution_count": 20,
   "id": "9ee866c3",
   "metadata": {},
   "outputs": [],
   "source": [
    "for movie in movie_info_list:\n",
    "    movie['Budget (float)'] = money_conversion(movie.get('Budget', \"N/A\"))\n",
    "    movie['Box office (float)'] = money_conversion(movie.get('Box office', \"N/A\"))"
   ]
  },
  {
   "cell_type": "code",
   "execution_count": 21,
   "id": "ff583221",
   "metadata": {},
   "outputs": [
    {
     "data": {
      "text/plain": [
       "130000000.0"
      ]
     },
     "execution_count": 21,
     "metadata": {},
     "output_type": "execute_result"
    }
   ],
   "source": [
    "money_conversion(str(movie_info_list[-40][\"Budget\"]))"
   ]
  },
  {
   "cell_type": "code",
   "execution_count": 22,
   "id": "65f5c479",
   "metadata": {},
   "outputs": [
    {
     "name": "stdout",
     "output_type": "stream",
     "text": [
      "[['May 19, 1937'], ['December 21, 1937 ( Carthay Circle Theatre )'], ['February 7, 1940 ( Center Theatre )', 'February 23, 1940 (United States)'], ['November 13, 1940'], ['June 27, 1941'], ['October 23, 1941 (New York City)', 'October 31, 1941 (U.S.)'], ['August 9, 1942 (World Premiere – London)', 'August 13, 1942 (Premiere – New York City)', 'August 21, 1942 (U.S.)'], ['August 24, 1942 (World Premiere – Rio de Janeiro)', 'February 6, 1943 (U.S. Premiere – Boston)', 'February 19, 1943 (U.S.)'], ['July 17, 1943'], ['December 21, 1944 (Mexico City)', 'February 3, 1945 (US)'], ['April 20, 1946 (New York City premiere)', 'August 15, 1946 (U.S.)'], ['November 12, 1946 (Premiere: Atlanta, Georgia)', 'November 20, 1946', 'March 30, 1947 (Stanford Theatre, Palo Alto, California)'], ['September 27, 1947'], 'May 27, 1948', ['November 29, 1948 (Chicago, Illinois)', 'January 19, 1949 (Indianapolis, Indiana)'], ['October 5, 1949'], ['February 15, 1950 (Boston)', 'March 4, 1950 (United States)'], ['June 22, 1950 (World Premiere- London )', 'July 29, 1950 ( US )'], ['July 26, 1951 (London, premiere)', 'July 28, 1951 (New York City, premiere)'], ['March 13, 1952 (Premiere- London )', 'June 26, 1952 ( US )'], ['February 5, 1953 (United States)'], [\"July 23, 1953 ('US )\"], ['November 10, 1953'], ['26 October 1953 (Premiere- London )', '27 February 1954 ( US )'], ['August 17, 1954'], ['December 23, 1954'], 'May 25, 1955', ['June 22, 1955'], ['September 14, 1955'], 'December 22, 1955', 'June 8, 1956', 'July 18, 1956', ['September 4, 1956'], ['December 20, 1956'], 'June 19, 1957', 'August 28, 1957', ['December 25, 1957'], ['July 8, 1958'], ['August 12, 1958'], ['December 25, 1958'], ['January 29, 1959'], ['March 19, 1959'], ['June 24, 1959 (Dublin)', 'June 26, 1959 (Los Angeles)'], ['November 10, 1959'], 'January 21, 1960 ( Sarasota, FL )', ['February 24, 1960'], 'May 19, 1960', ['June 1960 ( Berlin )', 'August 10, 1960 (US)'], ['November 1, 1960'], ['December 21, 1960'], ['January 25, 1961'], 'March 16, 1961', ['June 21, 1961'], ['July 12, 1961'], ['July 17, 1961'], ['December 14, 1961'], 'April 5, 1962', ['May 17, 1962'], ['June 6, 1962'], 'September 26, 1962', ['November 7, 1962 (Los Angeles)'], ['November 14, 1962 (London, premiere)', 'December 19, 1962 (US)'], ['January 16, 1963'], ['March 29, 1963 (U.S.)'], ['June 1, 1963'], ['July 7, 1963'], 'November 20, 1963', ['December 25, 1963'], ['March 12, 1964'], ['February 11, 1964 (Los Angeles)'], ['11 December 1963 ( New York City )', '4 June 1964 (U.S.)'], ['July 2, 1964'], ['August 27, 1964 (LA)', 'September 24, 1964 (NY)'], ['December 18, 1964'], ['January 28, 1965', '(', 'Atlanta, Georgia', 'Premiere)'], ['August 18, 1965 (Los Angeles)'], ['December 2, 1965'], ['February\\xa04,\\xa01966', '(premiere)', 'February\\xa016,\\xa01966'], ['June 25, 1966 (San Diego)', 'June 29, 1966 (U.S.)'], 'October 1, 1966', ['December 1, 1966'], ['February 8, 1967 (San Francisco)'], ['June 15, 1967 (uk)'], ['July 12, 1967'], ['October 18, 1967'], ['October 19, 1967'], ['June 23, 1967', 'November 30, 1967'], ['February 8, 1968'], ['March 21, 1968 ( Radio City Music Hall )'], ['June 26, 1968'], ['December 3, 1968'], ['December 24, 1968 (limited)', 'March 13, 1969 (wide)'], ['May 9, 1969'], 'September 4, 1969', ['November 28, 1969'], ['February 11, 1970'], 'July 1, 1970', ['December 15, 1970 (original release)', 'January 20, 1971'], ['December 11, 1970 (premiere)', 'December 24, 1970 (United States)'], 'March 17, 1971', 'June 22, 1971', ['June 30, 1971'], ['October 7, 1971 (United Kingdom)', 'December 13, 1971 (United States)'], ['March 22, 1972 (US)'], 'July 12, 1972', ['July 5, 1972'], ['October 18, 1972'], ['December 22, 1972'], 'February 1, 1973', ['March 23, 1973'], ['June 20, 1973'], ['November 8, 1973'], ['December 14, 1973'], ['June 6, 1974'], ['July 31, 1974'], ['August 1, 1974'], 'December 20, 1974 (with Winnie the Pooh and Tigger Too )', ['February 6, 1975'], ['March 21, 1975 (U.S.)'], ['July 1, 1975'], ['July 9, 1975'], ['October 8, 1975'], 'December 25, 1975', ['February 11, 1976 (Los Angeles)'], ['July 1, 1976'], ['July 7, 1976'], ['December 16, 1976'], ['December 17, 1976'], ['May 26, 1976', '(UK)', 'March 11, 1977', '(US)'], ['March 11, 1977'], ['June 20, 1977'], ['June 22, 1977'], ['June 24, 1977'], ['November 3, 1977'], 'December 16, 1977', ['March 10, 1978'], ['June 30, 1978 (New York)'], 'July 5, 1978', 'February 9, 1979', ['June 27, 1979'], ['July 19, 1979 (London)', 'August 3, 1979 (Los Angeles)'], ['December 18, 1979 (United Kingdom)', 'December 21, 1979 (United States)'], ['February 8, 1980'], ['April 17, 1980 (New York City)', 'October 9, 1981 (U.S.)'], ['June 27, 1980'], ['July 9, 1980 (Los Angeles)'], ['December 6, 1980 ( Los Angeles )', 'December 12, 1980 ( United States )'], 'February 11, 1981 (Los Angeles)', 'March 20, 1981', ['June 26, 1981'], ['July 10, 1981'], ['August 7, 1981'], 'February 5, 1982', ['July 9, 1982'], 'July 30, 1982', ['March 11, 1983'], ['April 29, 1983 (United States)'], ['October 7, 1983 (limited)', 'January 27, 1984 (release)'], ['June 21, 1985 (United States)'], ['July 24, 1985'], ['September 27, 1985'], ['November 22, 1985'], ['July 2, 1986'], ['August 1, 1986'], ['June 5, 1987'], ['24 March 1988 (Australia)'], ['November 18, 1988'], ['June 23, 1989'], 'August 18, 1989', ['November 17, 1989'], ['August 3, 1990'], ['November 16, 1990'], ['January 18, 1991'], ['3 October 1990'], ['May 24, 1991'], ['June 21, 1991'], ['September 29, 1991 ( NYFF )', 'November 22, 1991 (United States)'], ['April 10, 1992'], ['July 17, 1992'], ['October 2, 1992'], ['November 25, 1992'], ['December 11, 1992'], 'February 3, 1993', ['March 12, 1993'], ['April 2, 1993'], ['July 16, 1993'], ['October 1, 1993'], ['November 12, 1993'], ['January 14, 1994'], ['February 11, 1994'], ['April 17, 1994'], ['April 14, 1994'], ['June 15, 1994 (United States)'], ['July 15, 1994'], ['October 28, 1994'], ['November 11, 1994'], ['December 25, 1994'], ['February 17, 1995'], ['March 3, 1995'], ['March 24, 1995'], ['April 7, 1995'], ['June 10, 1995', 'June 23, 1995'], ['July 28, 1995'], ['August 11, 1995'], ['September 28, 1995'], ['January 22, 1995 ( Sundance Film Festival )', 'October 20, 1995 (U.S.)'], ['November 19, 1995 ( El Capitan Theatre )', 'November 22, 1995 (United States)'], ['December 22, 1995'], ['February 16, 1996'], ['March 8, 1996'], ['April 12, 1996 (United States)', 'August 2, 1996 (United Kingdom)'], ['June 21, 1996'], ['August 30, 1996'], ['October 4, 1996'], ['November 27, 1996 (United States)'], ['February 14, 1997'], ['March 7, 1997 (US)', 'August 5, 1997 (France)'], ['June 13, 1997 (limited release)', 'June 27, 1997 (wide release)'], ['July 16, 1997'], ['August 1, 1997'], ['October 10, 1997'], ['November 16, 1997 ( Pennsylvania )', 'November 26, 1997 (United States)'], ['December 25, 1997'], ['March 27, 1998 (United States)'], ['June 19, 1998'], ['July 29, 1998 (United States)'], ['November 13, 1998'], ['November 20, 1998'], ['December 25, 1998'], ['February 12, 1999'], ['March 26, 1999'], ['May 14, 1999'], ['June 12, 1999 ( El Capitan Theatre )', 'June 18, 1999 (United States )'], ['July 23, 1999'], ['May 1999 ( Cannes )', 'October 15, 1999 (United States)'], ['November 13, 1999 ( El Capitan Theatre )', 'November 24, 1999 (United States)'], ['December 17, 1999 (Premiere)', 'January 1, 2000 ( IMAX )', 'June 16, 2000 (United States)'], ['February 11, 2000 (United States)'], ['March 10, 2000'], ['May 19, 2000 (United States)'], ['July 7, 2000'], ['September 29, 2000'], ['November 22, 2000 (United States)'], ['December 15, 2000'], ['February 10, 2001 (premiere)', 'February 16, 2001 (United States)'], ['June 3, 2001 (premiere)', 'June 15, 2001 (United States)'], ['July 29, 2001 ( El Capitan Theatre )', 'August 3, 2001 (United States)'], ['October 5, 2001'], ['October 28, 2001 ( El Capitan Theatre )', 'November 2, 2001 (United States)'], ['January 18, 2002'], ['February 10, 2002 ( New York City )', 'February 15, 2002 (United States)'], ['March 29, 2002'], ['June 21, 2002'], ['July 21, 2002', 'July 26, 2002'], ['20 July 2001 (Japan)'], ['October 11, 2002 (U.S.)'], ['November 1, 2002'], ['November 27, 2002'], ['February 14, 2003'], ['March 16, 2003 (premiere)', 'March 21, 2003 (United States)', 'July 2, 2003 ( Manila , Philippines )'], ['March 31, 2003 (premiere)', 'April 11, 2003 (limited)'], ['April 18, 2003 (United States)'], ['May 2, 2003 (United States)', 'August 29, 2003 (United Kingdom)'], ['May 30, 2003'], ['June 28, 2003 ( Disneyland Resort )', 'July 9, 2003 (United States)'], ['August 4, 2003 ( Los Angeles )', 'August 6, 2003 (United States)'], ['November 1, 2003'], ['November 26, 2003'], ['December 25, 2003'], ['January 16, 2004'], ['February 20, 2004'], ['February 17, 2004 (United States)'], ['April 2, 2004'], ['April 22, 2004'], ['June 16, 2004'], ['July 2, 2004'], ['August 11, 2004'], ['October 24, 2004 ( El Capitan Theatre )', 'October 27, 2004 ( BFI London Film Festival )', 'November 5, 2004 (United States)'], ['November 19, 2004'], ['January 28, 2005'], ['February 11, 2005'], ['March 4, 2005'], ['March 18, 2005'], ['June 22, 2005'], ['5 September 2004 ( Venice )', '20 November 2004 (Japan)'], ['July 29, 2005'], ['March 25, 2005 (UK)', 'August 19, 2005 (US)'], ['September 30, 2005'], ['October 30, 2005 ( El Capitan Theatre )', 'November 4, 2005 (United States)'], ['December 7, 2005 ( Royal Film Performance )', 'December 8, 2005 (United Kingdom)', 'December 9, 2005 (United States)'], 'January 13, 2006', ['January 27, 2006'], ['February 17, 2006 (United States)'], ['March 10, 2006'], ['April 14, 2006'], [\"May 26, 2006 ( Lowe's Motor Speedway )\", 'June 9, 2006 (United States)'], ['June 24, 2006 ( Disneyland Resort )', 'July 7, 2006 (United States)'], ['August 25, 2006'], ['October 29, 1993'], ['November 3, 2006'], ['February 16, 2007'], ['March 23, 2007 (US)', 'March 30, 2007 (UK)'], ['May 19, 2007 ( Disneyland Resort )', 'May 25, 2007 (United States)'], ['June 22, 2007 ( Kodak Theatre )', 'June 29, 2007 (United States)'], ['August 3, 2007'], ['August 28, 2007'], ['September 23, 2007 ( Hollywood )', 'September 28, 2007 (United States)'], ['October 20, 2007 ( London )', 'November 21, 2007 (United States)'], ['December 21, 2007'], 'February 1, 2008', ['March 7, 2008'], ['May 7, 2008 ( New York City )', 'May 16, 2008 (United States)', 'June 26, 2008 (United Kingdom)'], ['June 23, 2008 ( Los Angeles )', 'June 27, 2008 (United States)'], ['October 3, 2008 (United States)'], 'October 17, 2008', ['October 17, 2008 (London)', 'October 24, 2008 (United States)'], ['November 21, 2008'], ['December 25, 2008'], ['June 29, 2007'], ['February 27, 2009'], ['March 11, 2009 (Egypt)', 'March 13, 2009 (United States)'], ['April 10, 2009'], ['10 October 2007 (France)', '16 November 2007 (United Kingdom)', '12 January 2008 (Germany)', '22 April 2009 (United States)'], ['May 29, 2009'], 'N/A', ['July 24, 2009'], ['July 19, 2008'], ['2008'], ['2009'], ['November 3, 2009 ( London )', 'November 6, 2009 (United States)'], ['November 25, 2009'], ['November 25, 2009 (Los Angeles premiere)', 'December 11, 2009 (United States)'], ['February 25, 2010 ( Odeon Leicester Square )', 'March 5, 2010 (United States)'], ['October 17, 2009 ( Tokyo International Film Festival )', 'January 24, 2010 (France)'], ['May 9, 2010 (London premiere)', 'May 28, 2010 (United States)'], ['June 12, 2010 ( Taormina Film Fest )', 'June 18, 2010 (United States)'], ['July 8, 2010 (Fantasia Film Festival)', 'July 14, 2010'], ['July 29, 2006'], ['26 October 2008 ( France )', '29 September 2009 ( United Kingdom )'], ['September 30, 2010 ( Hollywood )', 'October 8, 2010 (United States)'], ['8 October 2010'], ['November 14, 2010 ( El Capitan Theatre )', 'November 24, 2010 (United States)'], ['April 24, 2009 (San Francisco International Film Festival)', 'May 22, 2009 (United States)'], ['November 30, 2010 (Tokyo)', 'December 17, 2010 (United States)'], ['14 January 2011 (India)'], ['17 February 2011'], ['March 11, 2011'], ['22 April 2011'], ['April 22, 2011 (United States)', 'February 1, 2012 (France)', 'April 27, 2012 (United Kingdom)'], ['April 29, 2011'], ['May 7, 2011 ( Disneyland Resort )', 'May 20, 2011 (United States)'], ['June 18, 2011 (Hollywood)', 'June 24, 2011 (United States)'], ['April 6, 2011 (Belgium)', 'July 15, 2011 (United States)'], ['November 4, 2011 (Savannah Film Festival)', 'November 23, 2011 (United States)'], ['17 July 2010'], ['February 22, 2012 ( Los Angeles )', 'March 9, 2012 (United States)'], ['April 20, 2012 (United States)', 'February 20, 2013 (France)', 'May 3, 2013 (United Kingdom)'], ['25 May 2012'], ['June 10, 2012 ( SIFF )', 'June 22, 2012 (United States)'], ['August 15, 2012'], ['September 20, 2012 (Fantastic Fest)', 'October 5, 2012 (United States)'], ['October 29, 2012 ( El Capitan Theatre )', 'November 2, 2012 (United States)'], ['February 14, 2013 ( El Capitan Theatre )', 'March 8, 2013 (United States)'], ['16 March 2011 (France)', '16 April 2013 (United States)'], ['June 5, 2013 ( BFI Southbank )', 'June 21, 2013 (United States)'], ['June 22, 2013 ( Hyperion Theatre )', 'July 3, 2013 (United States)'], ['August 2, 2013 ( EAA AirVenture Oshkosh )', 'August 9, 2013 (United States)'], ['November 19, 2013 ( El Capitan Theatre )', 'November 22, 2013 (United States)'], ['October 20, 2013 ( BFI London Film Festival )', 'November 29, 2013 (United Kingdom)', 'December 13, 2013 (United States)', 'January 9, 2014 (Australia)'], ['March 11, 2014 ( El Capitan Theatre )', 'March 21, 2014 (United States)'], ['April 18, 2014 (United States)'], ['May 6, 2014 ( El Capitan Theatre )', 'May 16, 2014 (United States)'], ['May 28, 2014 ( El Capitan Theatre )', 'May 30, 2014 (United States)'], ['July 15, 2014 ( El Capitan Theatre )', 'July 18, 2014 (United States)'], ['19 September 2014'], ['October 6, 2014 ( El Capitan Theatre )', 'October 10, 2014 (United States)'], ['October 23, 2014 ( Tokyo International Film Festival )', 'October 31, 2014 ( Abu Dhabi Film Festival )', 'November 7, 2014 (United States)'], ['December 8, 2014 ( Ziegfeld Theatre )', 'December 25, 2014 (United States)'], ['February 9, 2015 ( Hollywood )', 'February 20, 2015 (United States)'], ['February 13, 2015 ( Berlin )', 'March 13, 2015 (United States)', 'March 27, 2015 (United Kingdom)'], ['April 17, 2015 (United States)'], ['May 9, 2015 ( Disneyland )', 'May 22, 2015 (United States)'], ['May 18, 2015 ( Cannes )', 'June 19, 2015 (United States)'], ['19 June 2015'], ['November 10, 2015 ( Paris )', 'November 25, 2015 (United States)'], ['January 25, 2016 ( TCL Chinese Theatre )', 'January 29, 2016 (United States)'], ['February 13, 2016 (Belgium)', 'March 4, 2016 (United States)'], ['April 4, 2016 ( El Capitan Theatre )', 'April 15, 2016 (United States)'], ['April 23, 2016 (Amsterdam)', 'May 6, 2016 (Spain)', 'May 12, 2016 (Italy)'], ['May 10, 2016 ( London )', 'May 27, 2016 (United States)'], ['June 8, 2016 ( El Capitan Theatre )', 'June 17, 2016 (United States)'], ['May 14, 2016 ( Cannes )', 'July 1, 2016 (United States)', 'July 22, 2016 (United Kingdom)'], ['August 8, 2016 ( El Capitan Theatre )', 'August 12, 2016 (United States)'], ['September 10, 2016 ( TIFF )', 'September 23, 2016 (United States)'], ['November 14, 2016 ( AFI Fest )', 'November 23, 2016 (United States)'], ['21 December 2016 (United States)', '23 December 2016 (India)'], ['26 January 2005'], ['February 23, 2017 ( Spencer House )', 'March 17, 2017 (United States)'], ['August 12, 2016 (China)', 'April 21, 2017 (United States)', 'August 23, 2017 (France)'], ['May 11, 2017 ( Shanghai Disney Resort )', 'May 26, 2017 (United States)'], ['May 23, 2017 ( Kannapolis )', 'June 16, 2017 (United States)'], ['June 30, 2017 (United States)'], ['14 July 2017'], ['October 20, 2017 ( Morelia )', 'November 22, 2017 (United States)'], ['February 26, 2018 ( El Capitan Theatre )', 'March 9, 2018 (United States)'], ['June 5, 2018 ( Los Angeles )', 'June 15, 2018 (United States)'], ['July 30, 2018 ( Burbank )', 'August 3, 2018 (United States)'], ['October 29, 2018 ( Dolby Theatre )', 'November 2, 2018 (United States)'], ['November 5, 2018 ( El Capitan Theatre )', 'November 21, 2018 (United States)'], ['November 29, 2018 ( Dolby Theatre )', 'December 19, 2018 (United States)'], ['March 11, 2019 ( Los Angeles )', 'March 29, 2019 (United States)'], ['April 17, 2019 (United States)'], ['May 8, 2019 ( Grand Rex )', 'May 24, 2019 (United States)'], ['June 11, 2019 ( El Capitan Theatre )', 'June 21, 2019 (United States)'], ['July 9, 2019 ( Hollywood )', 'July 19, 2019 (United States)'], ['October 18, 2019'], ['November 12, 2019 (United States)'], ['November 12, 2019 (United States)'], ['November 7, 2019 ( Dolby Theatre )', 'November 22, 2019 (United States)'], ['December 20, 2019 (United States)'], ['January 25, 2020 ( Sundance )', 'February 7, 2020 ( Disney+ )'], ['February 21, 2020 ( Berlinale )', 'March 6, 2020 (United States)'], ['March 13, 2020 (United States)'], ['March 28, 2018 (France)', 'April 3, 2020 ( Disney+ )'], ['April 3, 2020'], ['June 12, 2020'], ['July 3, 2020'], ['July 31, 2020'], ['August 14, 2020'], ['August 21, 2020 (United States)'], ['March 9, 2020 ( Hollywood )', 'September 4, 2020 (United States)'], ['December 4, 2020'], ['December 11, 2020 (United States)'], ['October 11, 2020 ( BFI Fest )', 'December 25, 2020 (United States)'], ['February 19, 2021'], ['March 5, 2021 (United States)'], ['May 18, 2021 ( El Capitan Theatre )', 'May 28, 2021 (United States)'], ['June 13, 2021 ( Aquarium of Genoa )', 'June 18, 2021 (United States)'], ['July 24, 2021 ( Disneyland Resort )', 'July 30, 2021 (United States)'], ['November 24, 2021'], ['March 11, 2022 (United States)'], ['2022'], ['2022'], ['July 16, 1993'], 'N/A', 'N/A', 'N/A', 'N/A', 'N/A']\n"
     ]
    }
   ],
   "source": [
    "# Convert Dates into datetimes\n",
    "print([movie.get('Release date', 'N/A') for movie in movie_info_list])"
   ]
  },
  {
   "cell_type": "code",
   "execution_count": 23,
   "id": "70b987f4",
   "metadata": {
    "scrolled": true
   },
   "outputs": [
    {
     "data": {
      "text/plain": [
       "{'title': 'Pirates of the Caribbean: Dead Men Tell No Tales',\n",
       " 'Directed by': ['Joachim Rønning', 'Espen Sandberg'],\n",
       " 'Screenplay by': 'Jeff Nathanson',\n",
       " 'Story by': ['Jeff Nathanson', 'Terry Rossio'],\n",
       " 'Based on': ['Characters by Ted Elliott Terry Rossio Stuart Beattie Jay Wolpert',\n",
       "  'Pirates of the Caribbean by Walt Disney'],\n",
       " 'Produced by': 'Jerry Bruckheimer',\n",
       " 'Starring': ['Johnny Depp',\n",
       "  'Javier Bardem',\n",
       "  'Geoffrey Rush',\n",
       "  'Brenton Thwaites',\n",
       "  'Kaya Scodelario',\n",
       "  'Kevin McNally'],\n",
       " 'Cinematography': 'Paul Cameron',\n",
       " 'Edited by': ['Roger Barton', 'Leigh Folsom Boyd'],\n",
       " 'Music by': 'Geoff Zanelli',\n",
       " 'Production companies': ['Walt Disney Pictures', 'Jerry Bruckheimer Films'],\n",
       " 'Distributed by': ['Walt Disney Studios', 'Motion Pictures'],\n",
       " 'Release date': ['May 11, 2017 ( Shanghai Disney Resort )',\n",
       "  'May 26, 2017 (United States)'],\n",
       " 'Running time': '129 minutes',\n",
       " 'Country': 'United States',\n",
       " 'Language': 'English',\n",
       " 'Budget': '$230–320 million',\n",
       " 'Box office': '$794.9 million',\n",
       " 'Running time (int)': 129,\n",
       " 'Budget (float)': 230000000.0,\n",
       " 'Box office (float)': 794900000.0}"
      ]
     },
     "execution_count": 23,
     "metadata": {},
     "output_type": "execute_result"
    }
   ],
   "source": [
    "movie_info_list[-50]"
   ]
  },
  {
   "cell_type": "code",
   "execution_count": 24,
   "id": "e2f4a41b",
   "metadata": {},
   "outputs": [],
   "source": [
    "# June 28, 1950\n",
    "from datetime import datetime\n",
    "\n",
    "dates = [movie.get('Release date', 'N/A') for movie in movie_info_list]\n",
    "\n",
    "def clean_date(date):\n",
    "    return date.split(\"(\")[0].strip()\n",
    "\n",
    "def date_conversion(date):\n",
    "    if isinstance(date, list):\n",
    "        date = date[0]\n",
    "        \n",
    "    if date == \"N/A\":\n",
    "        return None\n",
    "        \n",
    "    date_str = clean_date(date)\n",
    "\n",
    "    fmts = [\"%B %d, %Y\", \"%d %B %Y\"]\n",
    "    for fmt in fmts:\n",
    "        try:\n",
    "            return datetime.strptime(date_str, fmt)\n",
    "        except:\n",
    "            pass\n",
    "    return None\n"
   ]
  },
  {
   "cell_type": "code",
   "execution_count": 25,
   "id": "4e0a8277",
   "metadata": {},
   "outputs": [],
   "source": [
    "for movie in movie_info_list:\n",
    "    movie['Release date (datetime)'] = date_conversion(movie.get('Release date', 'N/A'))"
   ]
  },
  {
   "cell_type": "code",
   "execution_count": 26,
   "id": "203cd602",
   "metadata": {},
   "outputs": [
    {
     "data": {
      "text/plain": [
       "{'title': 'One Hundred and One Dalmatians',\n",
       " 'Directed by': ['Clyde Geronimi', 'Hamilton Luske', 'Wolfgang Reitherman'],\n",
       " 'Story by': 'Bill Peet',\n",
       " 'Based on': ['The Hundred and One Dalmatians', 'by', 'Dodie Smith'],\n",
       " 'Produced by': 'Walt Disney',\n",
       " 'Starring': ['Rod Taylor',\n",
       "  'Cate Bauer',\n",
       "  'Betty Lou Gerson',\n",
       "  'Ben Wright',\n",
       "  'Bill Lee (singing voice)',\n",
       "  'Lisa Davis',\n",
       "  'Martha Wentworth'],\n",
       " 'Edited by': ['Roy M. Brewer, Jr.', 'Donald Halliday'],\n",
       " 'Music by': 'George Bruns',\n",
       " 'Production company': 'Walt Disney Productions',\n",
       " 'Distributed by': 'Buena Vista Distribution',\n",
       " 'Release date': ['January 25, 1961'],\n",
       " 'Running time': '79 minutes',\n",
       " 'Country': 'United States',\n",
       " 'Language': 'English',\n",
       " 'Budget': '$3.6 million',\n",
       " 'Box office': '$303 million',\n",
       " 'Running time (int)': 79,\n",
       " 'Budget (float)': 3600000.0,\n",
       " 'Box office (float)': 303000000.0,\n",
       " 'Release date (datetime)': datetime.datetime(1961, 1, 25, 0, 0)}"
      ]
     },
     "execution_count": 26,
     "metadata": {},
     "output_type": "execute_result"
    }
   ],
   "source": [
    "movie_info_list[50]"
   ]
  },
  {
   "cell_type": "code",
   "execution_count": 27,
   "id": "f2c4a35f",
   "metadata": {},
   "outputs": [],
   "source": [
    "def save_data_pickle(name, data):\n",
    "    with open(name, 'wb') as f:\n",
    "        pickle.dump(data, f)"
   ]
  },
  {
   "cell_type": "code",
   "execution_count": 28,
   "id": "74278c36",
   "metadata": {},
   "outputs": [],
   "source": [
    "def load_data_pickle(name):\n",
    "    with open(name, 'rb') as f:\n",
    "        return pickle.load(f)"
   ]
  },
  {
   "cell_type": "code",
   "execution_count": 29,
   "id": "47aff4d7",
   "metadata": {},
   "outputs": [],
   "source": [
    "save_data_pickle(\"disney_movie_data_cleaned_more.pickle\", movie_info_list)"
   ]
  },
  {
   "cell_type": "code",
   "execution_count": 30,
   "id": "de2f94cc",
   "metadata": {},
   "outputs": [],
   "source": [
    "a = load_data_pickle(\"disney_movie_data_cleaned_more.pickle\")"
   ]
  },
  {
   "cell_type": "code",
   "execution_count": 31,
   "id": "154e36d3",
   "metadata": {},
   "outputs": [
    {
     "data": {
      "text/plain": [
       "True"
      ]
     },
     "execution_count": 31,
     "metadata": {},
     "output_type": "execute_result"
    }
   ],
   "source": [
    "a == movie_info_list"
   ]
  },
  {
   "cell_type": "markdown",
   "id": "c3c3f8eb",
   "metadata": {},
   "source": [
    "#### Task #4: Attach IMDB/Rotten Tomatoes/Metascore scores"
   ]
  },
  {
   "cell_type": "code",
   "execution_count": 32,
   "id": "005b41da",
   "metadata": {},
   "outputs": [],
   "source": [
    "movie_info_list = load_data_pickle('disney_movie_data_cleaned_more.pickle')"
   ]
  },
  {
   "cell_type": "code",
   "execution_count": 33,
   "id": "79ee8f27",
   "metadata": {
    "scrolled": true
   },
   "outputs": [
    {
     "data": {
      "text/plain": [
       "{'title': 'Alice Through the Looking Glass',\n",
       " 'Directed by': 'James Bobin',\n",
       " 'Written by': 'Linda Woolverton',\n",
       " 'Based on': ['Characters', 'by', 'Lewis Carroll'],\n",
       " 'Produced by': ['Joe Roth', 'Suzanne Todd', 'Jennifer Todd', 'Tim Burton'],\n",
       " 'Starring': ['Johnny Depp',\n",
       "  'Anne Hathaway',\n",
       "  'Mia Wasikowska',\n",
       "  'Rhys Ifans',\n",
       "  'Helena Bonham Carter',\n",
       "  'Sacha Baron Cohen',\n",
       "  'Alan Rickman',\n",
       "  'Stephen Fry',\n",
       "  'Michael Sheen',\n",
       "  'Timothy Spall'],\n",
       " 'Cinematography': 'Stuart Dryburgh',\n",
       " 'Edited by': 'Andrew Weisblum',\n",
       " 'Music by': 'Danny Elfman',\n",
       " 'Production companies': ['Walt Disney Pictures',\n",
       "  'Roth Films',\n",
       "  'Team Todd',\n",
       "  'Tim Burton Productions'],\n",
       " 'Distributed by': ['Walt Disney Studios', 'Motion Pictures'],\n",
       " 'Release date': ['May 10, 2016 ( London )', 'May 27, 2016 (United States)'],\n",
       " 'Running time': '114 minutes',\n",
       " 'Country': 'United States',\n",
       " 'Language': 'English',\n",
       " 'Budget': '$170 million',\n",
       " 'Box office': '$299.5 million',\n",
       " 'Running time (int)': 114,\n",
       " 'Budget (float)': 170000000.0,\n",
       " 'Box office (float)': 299500000.0,\n",
       " 'Release date (datetime)': datetime.datetime(2016, 5, 10, 0, 0)}"
      ]
     },
     "execution_count": 33,
     "metadata": {},
     "output_type": "execute_result"
    }
   ],
   "source": [
    "movie_info_list[-60]"
   ]
  },
  {
   "cell_type": "code",
   "execution_count": 34,
   "id": "26af23e1",
   "metadata": {},
   "outputs": [
    {
     "data": {
      "text/plain": [
       "{'Title': 'The Cabin in the Woods',\n",
       " 'Year': '2011',\n",
       " 'Rated': 'R',\n",
       " 'Released': '13 Apr 2012',\n",
       " 'Runtime': '95 min',\n",
       " 'Genre': 'Horror, Mystery, Thriller',\n",
       " 'Director': 'Drew Goddard',\n",
       " 'Writer': 'Joss Whedon, Drew Goddard',\n",
       " 'Actors': 'Kristen Connolly, Chris Hemsworth, Anna Hutchison',\n",
       " 'Plot': 'Five friends go for a break at a remote cabin, where they get more than they bargained for, discovering the truth behind the cabin in the woods.',\n",
       " 'Language': 'English, Japanese',\n",
       " 'Country': 'United States',\n",
       " 'Awards': '20 wins & 34 nominations',\n",
       " 'Poster': 'https://m.media-amazon.com/images/M/MV5BNTUxNzYyMjg2N15BMl5BanBnXkFtZTcwMTExNzExNw@@._V1_SX300.jpg',\n",
       " 'Ratings': [{'Source': 'Internet Movie Database', 'Value': '7.0/10'},\n",
       "  {'Source': 'Rotten Tomatoes', 'Value': '92%'},\n",
       "  {'Source': 'Metacritic', 'Value': '72/100'}],\n",
       " 'Metascore': '72',\n",
       " 'imdbRating': '7.0',\n",
       " 'imdbVotes': '390,696',\n",
       " 'imdbID': 'tt1259521',\n",
       " 'Type': 'movie',\n",
       " 'DVD': '06 May 2014',\n",
       " 'BoxOffice': '$42,073,277',\n",
       " 'Production': 'Mutant Enemy',\n",
       " 'Website': 'N/A',\n",
       " 'Response': 'True'}"
      ]
     },
     "execution_count": 34,
     "metadata": {},
     "output_type": "execute_result"
    }
   ],
   "source": [
    "import requests\n",
    "import urllib\n",
    "import os\n",
    "\n",
    "def get_omdb_info(title):\n",
    "    base_url = \"http://www.omdbapi.com/?\"\n",
    "    parameters = {\"apikey\":'d0ba764a' , 't': title}\n",
    "    params_encoded = urllib.parse.urlencode(parameters)\n",
    "    full_url = base_url + params_encoded\n",
    "    return requests.get(full_url).json()\n",
    "\n",
    "def get_rotten_tomato_score(omdb_info):\n",
    "    ratings = omdb_info.get('Ratings', [])\n",
    "    for rating in ratings:\n",
    "        if rating['Source'] == 'Rotten Tomatoes':\n",
    "            return rating['Value']\n",
    "    return None\n",
    "\n",
    "get_omdb_info(\"woods\")"
   ]
  },
  {
   "cell_type": "code",
   "execution_count": 35,
   "id": "0596082c",
   "metadata": {},
   "outputs": [],
   "source": [
    "for movie in movie_info_list:\n",
    "    title = movie['title']\n",
    "    omdb_info = get_omdb_info(title)\n",
    "    movie['imdb'] = omdb_info.get('imdbRating', None)\n",
    "    movie['metascore'] = omdb_info.get('Metascore', None)\n",
    "    movie['rotten_tomatoes'] = get_rotten_tomato_score(omdb_info)"
   ]
  },
  {
   "cell_type": "code",
   "execution_count": 36,
   "id": "1b01d90e",
   "metadata": {},
   "outputs": [
    {
     "data": {
      "text/plain": [
       "{'title': 'Togo',\n",
       " 'Directed by': 'Ericson Core',\n",
       " 'Written by': 'Tom Flynn',\n",
       " 'Produced by': 'Kim Zubick',\n",
       " 'Starring': ['Willem Dafoe'],\n",
       " 'Cinematography': 'Ericson Core',\n",
       " 'Edited by': 'Martin Pensa',\n",
       " 'Music by': 'Mark Isham',\n",
       " 'Production company': 'Walt Disney Pictures',\n",
       " 'Distributed by': 'Walt Disney Studios Motion Pictures',\n",
       " 'Release date': ['December 20, 2019 (United States)'],\n",
       " 'Running time': '114 minutes',\n",
       " 'Country': 'United States',\n",
       " 'Language': 'English',\n",
       " 'Budget': '$40 million',\n",
       " 'Running time (int)': 114,\n",
       " 'Budget (float)': 40000000.0,\n",
       " 'Box office (float)': None,\n",
       " 'Release date (datetime)': datetime.datetime(2019, 12, 20, 0, 0),\n",
       " 'imdb': '8.0',\n",
       " 'metascore': '69',\n",
       " 'rotten_tomatoes': '92%'}"
      ]
     },
     "execution_count": 36,
     "metadata": {},
     "output_type": "execute_result"
    }
   ],
   "source": [
    "movie_info_list[-30]"
   ]
  },
  {
   "cell_type": "code",
   "execution_count": 37,
   "id": "183d9026",
   "metadata": {},
   "outputs": [],
   "source": [
    "save_data_pickle('disney_movie_data_final.pickle', movie_info_list)"
   ]
  },
  {
   "cell_type": "markdown",
   "id": "ccb86c87",
   "metadata": {},
   "source": [
    "### Task #5: Save data as JSON & CSV"
   ]
  },
  {
   "cell_type": "code",
   "execution_count": 38,
   "id": "7b14b9f8",
   "metadata": {},
   "outputs": [
    {
     "data": {
      "text/plain": [
       "{'title': 'One Hundred and One Dalmatians',\n",
       " 'Directed by': ['Clyde Geronimi', 'Hamilton Luske', 'Wolfgang Reitherman'],\n",
       " 'Story by': 'Bill Peet',\n",
       " 'Based on': ['The Hundred and One Dalmatians', 'by', 'Dodie Smith'],\n",
       " 'Produced by': 'Walt Disney',\n",
       " 'Starring': ['Rod Taylor',\n",
       "  'Cate Bauer',\n",
       "  'Betty Lou Gerson',\n",
       "  'Ben Wright',\n",
       "  'Bill Lee (singing voice)',\n",
       "  'Lisa Davis',\n",
       "  'Martha Wentworth'],\n",
       " 'Edited by': ['Roy M. Brewer, Jr.', 'Donald Halliday'],\n",
       " 'Music by': 'George Bruns',\n",
       " 'Production company': 'Walt Disney Productions',\n",
       " 'Distributed by': 'Buena Vista Distribution',\n",
       " 'Release date': ['January 25, 1961'],\n",
       " 'Running time': '79 minutes',\n",
       " 'Country': 'United States',\n",
       " 'Language': 'English',\n",
       " 'Budget': '$3.6 million',\n",
       " 'Box office': '$303 million',\n",
       " 'Running time (int)': 79,\n",
       " 'Budget (float)': 3600000.0,\n",
       " 'Box office (float)': 303000000.0,\n",
       " 'Release date (datetime)': datetime.datetime(1961, 1, 25, 0, 0),\n",
       " 'imdb': '7.3',\n",
       " 'metascore': '83',\n",
       " 'rotten_tomatoes': '98%'}"
      ]
     },
     "execution_count": 38,
     "metadata": {},
     "output_type": "execute_result"
    }
   ],
   "source": [
    "movie_info_list[50]"
   ]
  },
  {
   "cell_type": "code",
   "execution_count": 39,
   "id": "fb99ae52",
   "metadata": {},
   "outputs": [],
   "source": [
    "movie_info_copy = [movie.copy() for movie in movie_info_list]"
   ]
  },
  {
   "cell_type": "code",
   "execution_count": 40,
   "id": "ec3f0c44",
   "metadata": {},
   "outputs": [],
   "source": [
    "for movie in movie_info_copy:\n",
    "    current_date = movie['Release date (datetime)']\n",
    "    if current_date:\n",
    "        movie['Release date (datetime)'] = current_date.strftime(\"%B %d, %Y\")\n",
    "    else:\n",
    "        movie['Release date (datetime)'] = None"
   ]
  },
  {
   "cell_type": "code",
   "execution_count": 41,
   "id": "1253b263",
   "metadata": {},
   "outputs": [],
   "source": [
    "save_data(\"disney_data_final.json\", movie_info_copy)"
   ]
  },
  {
   "cell_type": "markdown",
   "id": "e996ed17",
   "metadata": {},
   "source": [
    "#### Convert data to CSV"
   ]
  },
  {
   "cell_type": "code",
   "execution_count": 42,
   "id": "d125c9ef",
   "metadata": {},
   "outputs": [],
   "source": [
    "import pandas as pd\n",
    "\n",
    "df = pd.DataFrame(movie_info_list)"
   ]
  },
  {
   "cell_type": "code",
   "execution_count": 43,
   "id": "9e4f6c13",
   "metadata": {},
   "outputs": [
    {
     "data": {
      "text/html": [
       "<div>\n",
       "<style scoped>\n",
       "    .dataframe tbody tr th:only-of-type {\n",
       "        vertical-align: middle;\n",
       "    }\n",
       "\n",
       "    .dataframe tbody tr th {\n",
       "        vertical-align: top;\n",
       "    }\n",
       "\n",
       "    .dataframe thead th {\n",
       "        text-align: right;\n",
       "    }\n",
       "</style>\n",
       "<table border=\"1\" class=\"dataframe\">\n",
       "  <thead>\n",
       "    <tr style=\"text-align: right;\">\n",
       "      <th></th>\n",
       "      <th>title</th>\n",
       "      <th>Production company</th>\n",
       "      <th>Release date</th>\n",
       "      <th>Running time</th>\n",
       "      <th>Country</th>\n",
       "      <th>Language</th>\n",
       "      <th>Box office</th>\n",
       "      <th>Running time (int)</th>\n",
       "      <th>Budget (float)</th>\n",
       "      <th>Box office (float)</th>\n",
       "      <th>...</th>\n",
       "      <th>Screenplay by</th>\n",
       "      <th>Countries</th>\n",
       "      <th>Production companies</th>\n",
       "      <th>Color process</th>\n",
       "      <th>Japanese</th>\n",
       "      <th>Hepburn</th>\n",
       "      <th>Adaptation by</th>\n",
       "      <th>Animation by</th>\n",
       "      <th>Traditional</th>\n",
       "      <th>Simplified</th>\n",
       "    </tr>\n",
       "  </thead>\n",
       "  <tbody>\n",
       "    <tr>\n",
       "      <th>0</th>\n",
       "      <td>Academy Award Review of</td>\n",
       "      <td>Walt Disney Productions</td>\n",
       "      <td>[May 19, 1937]</td>\n",
       "      <td>41 minutes (74 minutes 1966 release)</td>\n",
       "      <td>United States</td>\n",
       "      <td>English</td>\n",
       "      <td>$45.472</td>\n",
       "      <td>41.0</td>\n",
       "      <td>NaN</td>\n",
       "      <td>4.547200e+01</td>\n",
       "      <td>...</td>\n",
       "      <td>NaN</td>\n",
       "      <td>NaN</td>\n",
       "      <td>NaN</td>\n",
       "      <td>NaN</td>\n",
       "      <td>NaN</td>\n",
       "      <td>NaN</td>\n",
       "      <td>NaN</td>\n",
       "      <td>NaN</td>\n",
       "      <td>NaN</td>\n",
       "      <td>NaN</td>\n",
       "    </tr>\n",
       "    <tr>\n",
       "      <th>1</th>\n",
       "      <td>Snow White and the Seven Dwarfs</td>\n",
       "      <td>Walt Disney Productions</td>\n",
       "      <td>[December 21, 1937 ( Carthay Circle Theatre )]</td>\n",
       "      <td>83 minutes</td>\n",
       "      <td>United States</td>\n",
       "      <td>English</td>\n",
       "      <td>$418 million</td>\n",
       "      <td>83.0</td>\n",
       "      <td>1490000.0</td>\n",
       "      <td>4.180000e+08</td>\n",
       "      <td>...</td>\n",
       "      <td>NaN</td>\n",
       "      <td>NaN</td>\n",
       "      <td>NaN</td>\n",
       "      <td>NaN</td>\n",
       "      <td>NaN</td>\n",
       "      <td>NaN</td>\n",
       "      <td>NaN</td>\n",
       "      <td>NaN</td>\n",
       "      <td>NaN</td>\n",
       "      <td>NaN</td>\n",
       "    </tr>\n",
       "    <tr>\n",
       "      <th>2</th>\n",
       "      <td>Pinocchio</td>\n",
       "      <td>Walt Disney Productions</td>\n",
       "      <td>[February 7, 1940 ( Center Theatre ), February...</td>\n",
       "      <td>88 minutes</td>\n",
       "      <td>United States</td>\n",
       "      <td>English</td>\n",
       "      <td>$164 million</td>\n",
       "      <td>88.0</td>\n",
       "      <td>2600000.0</td>\n",
       "      <td>1.640000e+08</td>\n",
       "      <td>...</td>\n",
       "      <td>NaN</td>\n",
       "      <td>NaN</td>\n",
       "      <td>NaN</td>\n",
       "      <td>NaN</td>\n",
       "      <td>NaN</td>\n",
       "      <td>NaN</td>\n",
       "      <td>NaN</td>\n",
       "      <td>NaN</td>\n",
       "      <td>NaN</td>\n",
       "      <td>NaN</td>\n",
       "    </tr>\n",
       "    <tr>\n",
       "      <th>3</th>\n",
       "      <td>Fantasia</td>\n",
       "      <td>Walt Disney Productions</td>\n",
       "      <td>[November 13, 1940]</td>\n",
       "      <td>126 minutes</td>\n",
       "      <td>United States</td>\n",
       "      <td>English</td>\n",
       "      <td>$76.4–$83.3 million (United States and Canada)</td>\n",
       "      <td>126.0</td>\n",
       "      <td>2280000.0</td>\n",
       "      <td>8.330000e+07</td>\n",
       "      <td>...</td>\n",
       "      <td>NaN</td>\n",
       "      <td>NaN</td>\n",
       "      <td>NaN</td>\n",
       "      <td>NaN</td>\n",
       "      <td>NaN</td>\n",
       "      <td>NaN</td>\n",
       "      <td>NaN</td>\n",
       "      <td>NaN</td>\n",
       "      <td>NaN</td>\n",
       "      <td>NaN</td>\n",
       "    </tr>\n",
       "    <tr>\n",
       "      <th>4</th>\n",
       "      <td>The Reluctant Dragon</td>\n",
       "      <td>Walt Disney Productions</td>\n",
       "      <td>[June 27, 1941]</td>\n",
       "      <td>74 minutes</td>\n",
       "      <td>United States</td>\n",
       "      <td>English</td>\n",
       "      <td>$960,000 (worldwide rentals)</td>\n",
       "      <td>74.0</td>\n",
       "      <td>600000.0</td>\n",
       "      <td>9.600000e+05</td>\n",
       "      <td>...</td>\n",
       "      <td>NaN</td>\n",
       "      <td>NaN</td>\n",
       "      <td>NaN</td>\n",
       "      <td>NaN</td>\n",
       "      <td>NaN</td>\n",
       "      <td>NaN</td>\n",
       "      <td>NaN</td>\n",
       "      <td>NaN</td>\n",
       "      <td>NaN</td>\n",
       "      <td>NaN</td>\n",
       "    </tr>\n",
       "  </tbody>\n",
       "</table>\n",
       "<p>5 rows × 37 columns</p>\n",
       "</div>"
      ],
      "text/plain": [
       "                             title       Production company  \\\n",
       "0          Academy Award Review of  Walt Disney Productions   \n",
       "1  Snow White and the Seven Dwarfs  Walt Disney Productions   \n",
       "2                        Pinocchio  Walt Disney Productions   \n",
       "3                         Fantasia  Walt Disney Productions   \n",
       "4             The Reluctant Dragon  Walt Disney Productions   \n",
       "\n",
       "                                        Release date  \\\n",
       "0                                     [May 19, 1937]   \n",
       "1     [December 21, 1937 ( Carthay Circle Theatre )]   \n",
       "2  [February 7, 1940 ( Center Theatre ), February...   \n",
       "3                                [November 13, 1940]   \n",
       "4                                    [June 27, 1941]   \n",
       "\n",
       "                           Running time        Country Language  \\\n",
       "0  41 minutes (74 minutes 1966 release)  United States  English   \n",
       "1                            83 minutes  United States  English   \n",
       "2                            88 minutes  United States  English   \n",
       "3                           126 minutes  United States  English   \n",
       "4                            74 minutes  United States  English   \n",
       "\n",
       "                                       Box office  Running time (int)  \\\n",
       "0                                         $45.472                41.0   \n",
       "1                                    $418 million                83.0   \n",
       "2                                    $164 million                88.0   \n",
       "3  $76.4–$83.3 million (United States and Canada)               126.0   \n",
       "4                    $960,000 (worldwide rentals)                74.0   \n",
       "\n",
       "   Budget (float)  Box office (float)  ... Screenplay by Countries  \\\n",
       "0             NaN        4.547200e+01  ...           NaN       NaN   \n",
       "1       1490000.0        4.180000e+08  ...           NaN       NaN   \n",
       "2       2600000.0        1.640000e+08  ...           NaN       NaN   \n",
       "3       2280000.0        8.330000e+07  ...           NaN       NaN   \n",
       "4        600000.0        9.600000e+05  ...           NaN       NaN   \n",
       "\n",
       "  Production companies Color process Japanese Hepburn Adaptation by  \\\n",
       "0                  NaN           NaN      NaN     NaN           NaN   \n",
       "1                  NaN           NaN      NaN     NaN           NaN   \n",
       "2                  NaN           NaN      NaN     NaN           NaN   \n",
       "3                  NaN           NaN      NaN     NaN           NaN   \n",
       "4                  NaN           NaN      NaN     NaN           NaN   \n",
       "\n",
       "  Animation by Traditional Simplified  \n",
       "0          NaN         NaN        NaN  \n",
       "1          NaN         NaN        NaN  \n",
       "2          NaN         NaN        NaN  \n",
       "3          NaN         NaN        NaN  \n",
       "4          NaN         NaN        NaN  \n",
       "\n",
       "[5 rows x 37 columns]"
      ]
     },
     "execution_count": 43,
     "metadata": {},
     "output_type": "execute_result"
    }
   ],
   "source": [
    "df.head()"
   ]
  },
  {
   "cell_type": "code",
   "execution_count": 44,
   "id": "4abc75c6",
   "metadata": {},
   "outputs": [],
   "source": [
    "df.to_csv(\"disney_movie_data_final.csv\")"
   ]
  },
  {
   "cell_type": "code",
   "execution_count": 45,
   "id": "ca96b761",
   "metadata": {
    "scrolled": true
   },
   "outputs": [
    {
     "data": {
      "text/html": [
       "<div>\n",
       "<style scoped>\n",
       "    .dataframe tbody tr th:only-of-type {\n",
       "        vertical-align: middle;\n",
       "    }\n",
       "\n",
       "    .dataframe tbody tr th {\n",
       "        vertical-align: top;\n",
       "    }\n",
       "\n",
       "    .dataframe thead th {\n",
       "        text-align: right;\n",
       "    }\n",
       "</style>\n",
       "<table border=\"1\" class=\"dataframe\">\n",
       "  <thead>\n",
       "    <tr style=\"text-align: right;\">\n",
       "      <th></th>\n",
       "      <th>title</th>\n",
       "      <th>Production company</th>\n",
       "      <th>Release date</th>\n",
       "      <th>Running time</th>\n",
       "      <th>Country</th>\n",
       "      <th>Language</th>\n",
       "      <th>Box office</th>\n",
       "      <th>Running time (int)</th>\n",
       "      <th>Budget (float)</th>\n",
       "      <th>Box office (float)</th>\n",
       "      <th>...</th>\n",
       "      <th>Screenplay by</th>\n",
       "      <th>Countries</th>\n",
       "      <th>Production companies</th>\n",
       "      <th>Color process</th>\n",
       "      <th>Japanese</th>\n",
       "      <th>Hepburn</th>\n",
       "      <th>Adaptation by</th>\n",
       "      <th>Animation by</th>\n",
       "      <th>Traditional</th>\n",
       "      <th>Simplified</th>\n",
       "    </tr>\n",
       "  </thead>\n",
       "  <tbody>\n",
       "    <tr>\n",
       "      <th>302</th>\n",
       "      <td>Pirates of the Caribbean: At World's End</td>\n",
       "      <td>NaN</td>\n",
       "      <td>[May 19, 2007 ( Disneyland Resort ), May 25, 2...</td>\n",
       "      <td>167 minutes</td>\n",
       "      <td>United States</td>\n",
       "      <td>English</td>\n",
       "      <td>$960.9 million</td>\n",
       "      <td>167.0</td>\n",
       "      <td>300000000.0</td>\n",
       "      <td>960900000.0</td>\n",
       "      <td>...</td>\n",
       "      <td>NaN</td>\n",
       "      <td>NaN</td>\n",
       "      <td>[Walt Disney Pictures, Jerry Bruckheimer Films]</td>\n",
       "      <td>NaN</td>\n",
       "      <td>NaN</td>\n",
       "      <td>NaN</td>\n",
       "      <td>NaN</td>\n",
       "      <td>NaN</td>\n",
       "      <td>NaN</td>\n",
       "      <td>NaN</td>\n",
       "    </tr>\n",
       "    <tr>\n",
       "      <th>86</th>\n",
       "      <td>The Happiest Millionaire</td>\n",
       "      <td>Walt Disney Productions</td>\n",
       "      <td>[June 23, 1967, November 30, 1967]</td>\n",
       "      <td>[164 minutes, (, Los Angeles, premiere), 144 m...</td>\n",
       "      <td>United States</td>\n",
       "      <td>English</td>\n",
       "      <td>$5 million (U.S./Canada rentals)</td>\n",
       "      <td>164.0</td>\n",
       "      <td>5000000.0</td>\n",
       "      <td>5000000.0</td>\n",
       "      <td>...</td>\n",
       "      <td>A. J. Carothers</td>\n",
       "      <td>NaN</td>\n",
       "      <td>NaN</td>\n",
       "      <td>NaN</td>\n",
       "      <td>NaN</td>\n",
       "      <td>NaN</td>\n",
       "      <td>NaN</td>\n",
       "      <td>NaN</td>\n",
       "      <td>NaN</td>\n",
       "      <td>NaN</td>\n",
       "    </tr>\n",
       "    <tr>\n",
       "      <th>402</th>\n",
       "      <td>Jagga Jasoos</td>\n",
       "      <td>NaN</td>\n",
       "      <td>[14 July 2017]</td>\n",
       "      <td>162 minutes</td>\n",
       "      <td>India</td>\n",
       "      <td>Hindi</td>\n",
       "      <td>83 crore</td>\n",
       "      <td>162.0</td>\n",
       "      <td>NaN</td>\n",
       "      <td>NaN</td>\n",
       "      <td>...</td>\n",
       "      <td>NaN</td>\n",
       "      <td>NaN</td>\n",
       "      <td>[Walt Disney Pictures India, Picture Shuru Ent...</td>\n",
       "      <td>NaN</td>\n",
       "      <td>NaN</td>\n",
       "      <td>NaN</td>\n",
       "      <td>NaN</td>\n",
       "      <td>NaN</td>\n",
       "      <td>NaN</td>\n",
       "      <td>NaN</td>\n",
       "    </tr>\n",
       "    <tr>\n",
       "      <th>395</th>\n",
       "      <td>Dangal</td>\n",
       "      <td>NaN</td>\n",
       "      <td>[21 December 2016 (United States), 23 December...</td>\n",
       "      <td>161 minutes</td>\n",
       "      <td>India</td>\n",
       "      <td>Hindi</td>\n",
       "      <td>[est., (, )]</td>\n",
       "      <td>161.0</td>\n",
       "      <td>NaN</td>\n",
       "      <td>NaN</td>\n",
       "      <td>...</td>\n",
       "      <td>NaN</td>\n",
       "      <td>NaN</td>\n",
       "      <td>[Aamir Khan Productions, Walt Disney Pictures ...</td>\n",
       "      <td>NaN</td>\n",
       "      <td>NaN</td>\n",
       "      <td>NaN</td>\n",
       "      <td>NaN</td>\n",
       "      <td>NaN</td>\n",
       "      <td>NaN</td>\n",
       "      <td>NaN</td>\n",
       "    </tr>\n",
       "    <tr>\n",
       "      <th>426</th>\n",
       "      <td>Hamilton</td>\n",
       "      <td>NaN</td>\n",
       "      <td>[July 3, 2020]</td>\n",
       "      <td>160 minutes</td>\n",
       "      <td>United States</td>\n",
       "      <td>English</td>\n",
       "      <td>NaN</td>\n",
       "      <td>160.0</td>\n",
       "      <td>12500000.0</td>\n",
       "      <td>NaN</td>\n",
       "      <td>...</td>\n",
       "      <td>NaN</td>\n",
       "      <td>NaN</td>\n",
       "      <td>[Walt Disney Pictures, 5000 Broadway Productio...</td>\n",
       "      <td>NaN</td>\n",
       "      <td>NaN</td>\n",
       "      <td>NaN</td>\n",
       "      <td>NaN</td>\n",
       "      <td>NaN</td>\n",
       "      <td>NaN</td>\n",
       "      <td>NaN</td>\n",
       "    </tr>\n",
       "  </tbody>\n",
       "</table>\n",
       "<p>5 rows × 37 columns</p>\n",
       "</div>"
      ],
      "text/plain": [
       "                                        title       Production company  \\\n",
       "302  Pirates of the Caribbean: At World's End                      NaN   \n",
       "86                   The Happiest Millionaire  Walt Disney Productions   \n",
       "402                              Jagga Jasoos                      NaN   \n",
       "395                                    Dangal                      NaN   \n",
       "426                                  Hamilton                      NaN   \n",
       "\n",
       "                                          Release date  \\\n",
       "302  [May 19, 2007 ( Disneyland Resort ), May 25, 2...   \n",
       "86                  [June 23, 1967, November 30, 1967]   \n",
       "402                                     [14 July 2017]   \n",
       "395  [21 December 2016 (United States), 23 December...   \n",
       "426                                     [July 3, 2020]   \n",
       "\n",
       "                                          Running time        Country  \\\n",
       "302                                        167 minutes  United States   \n",
       "86   [164 minutes, (, Los Angeles, premiere), 144 m...  United States   \n",
       "402                                        162 minutes          India   \n",
       "395                                        161 minutes          India   \n",
       "426                                        160 minutes  United States   \n",
       "\n",
       "    Language                        Box office  Running time (int)  \\\n",
       "302  English                    $960.9 million               167.0   \n",
       "86   English  $5 million (U.S./Canada rentals)               164.0   \n",
       "402    Hindi                          83 crore               162.0   \n",
       "395    Hindi                      [est., (, )]               161.0   \n",
       "426  English                               NaN               160.0   \n",
       "\n",
       "     Budget (float)  Box office (float)  ...    Screenplay by Countries  \\\n",
       "302     300000000.0         960900000.0  ...              NaN       NaN   \n",
       "86        5000000.0           5000000.0  ...  A. J. Carothers       NaN   \n",
       "402             NaN                 NaN  ...              NaN       NaN   \n",
       "395             NaN                 NaN  ...              NaN       NaN   \n",
       "426      12500000.0                 NaN  ...              NaN       NaN   \n",
       "\n",
       "                                  Production companies Color process Japanese  \\\n",
       "302    [Walt Disney Pictures, Jerry Bruckheimer Films]           NaN      NaN   \n",
       "86                                                 NaN           NaN      NaN   \n",
       "402  [Walt Disney Pictures India, Picture Shuru Ent...           NaN      NaN   \n",
       "395  [Aamir Khan Productions, Walt Disney Pictures ...           NaN      NaN   \n",
       "426  [Walt Disney Pictures, 5000 Broadway Productio...           NaN      NaN   \n",
       "\n",
       "    Hepburn Adaptation by Animation by Traditional Simplified  \n",
       "302     NaN           NaN          NaN         NaN        NaN  \n",
       "86      NaN           NaN          NaN         NaN        NaN  \n",
       "402     NaN           NaN          NaN         NaN        NaN  \n",
       "395     NaN           NaN          NaN         NaN        NaN  \n",
       "426     NaN           NaN          NaN         NaN        NaN  \n",
       "\n",
       "[5 rows x 37 columns]"
      ]
     },
     "execution_count": 45,
     "metadata": {},
     "output_type": "execute_result"
    }
   ],
   "source": [
    "running_times = df.sort_values(['Running time (int)'],  ascending=False)\n",
    "running_times.head()"
   ]
  },
  {
   "cell_type": "code",
   "execution_count": null,
   "id": "1206733a",
   "metadata": {},
   "outputs": [],
   "source": []
  }
 ],
 "metadata": {
  "kernelspec": {
   "display_name": "Python 3",
   "language": "python",
   "name": "python3"
  },
  "language_info": {
   "codemirror_mode": {
    "name": "ipython",
    "version": 3
   },
   "file_extension": ".py",
   "mimetype": "text/x-python",
   "name": "python",
   "nbconvert_exporter": "python",
   "pygments_lexer": "ipython3",
   "version": "3.8.8"
  }
 },
 "nbformat": 4,
 "nbformat_minor": 5
}
